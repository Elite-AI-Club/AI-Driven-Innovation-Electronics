{
  "cells": [
    {
      "cell_type": "code",
      "source": [
        "import os\n",
        "\n",
        "# Install git if not already installed\n",
        "!apt-get install -y git\n",
        "\n",
        "# Clone the repository\n",
        "!git clone https://github.com/Elite-AI-Club/AI-Driven-Innovation-Electronics.git\n",
        "\n",
        "# Change working directory to the repository\n",
        "%cd AI-Driven-Innovation-Electronics/7_PCB_Fault_Detection"
      ],
      "metadata": {
        "id": "J5tu3x8hWOAv",
        "outputId": "10d41e27-7649-4083-bf8b-a5d1bf781104",
        "colab": {
          "base_uri": "https://localhost:8080/"
        }
      },
      "id": "J5tu3x8hWOAv",
      "execution_count": 1,
      "outputs": [
        {
          "output_type": "stream",
          "name": "stdout",
          "text": [
            "Reading package lists... Done\n",
            "Building dependency tree... Done\n",
            "Reading state information... Done\n",
            "git is already the newest version (1:2.34.1-1ubuntu1.11).\n",
            "0 upgraded, 0 newly installed, 0 to remove and 49 not upgraded.\n",
            "Cloning into 'AI-Driven-Innovation-Electronics'...\n",
            "remote: Enumerating objects: 1319, done.\u001b[K\n",
            "remote: Counting objects: 100% (102/102), done.\u001b[K\n",
            "remote: Compressing objects: 100% (68/68), done.\u001b[K\n",
            "remote: Total 1319 (delta 29), reused 102 (delta 29), pack-reused 1217 (from 1)\u001b[K\n",
            "Receiving objects: 100% (1319/1319), 109.39 MiB | 26.59 MiB/s, done.\n",
            "Resolving deltas: 100% (33/33), done.\n",
            "Updating files: 100% (1339/1339), done.\n",
            "/content/AI-Driven-Innovation-Electronics/7_PCB_Fault_Detection\n"
          ]
        }
      ]
    },
    {
      "cell_type": "code",
      "source": [
        "pwd"
      ],
      "metadata": {
        "id": "NRfpUrSMWoek",
        "outputId": "c1b1daa1-ada9-404f-d435-36e7e7455ff4",
        "colab": {
          "base_uri": "https://localhost:8080/",
          "height": 35
        }
      },
      "id": "NRfpUrSMWoek",
      "execution_count": 2,
      "outputs": [
        {
          "output_type": "execute_result",
          "data": {
            "text/plain": [
              "'/content/AI-Driven-Innovation-Electronics/7_PCB_Fault_Detection'"
            ],
            "application/vnd.google.colaboratory.intrinsic+json": {
              "type": "string"
            }
          },
          "metadata": {},
          "execution_count": 2
        }
      ]
    },
    {
      "cell_type": "code",
      "execution_count": 3,
      "id": "739ddf18",
      "metadata": {
        "id": "739ddf18"
      },
      "outputs": [],
      "source": [
        "import os\n",
        "import numpy as np\n",
        "from PIL import Image\n",
        "from tensorflow.keras.models import load_model\n",
        "from tensorflow.keras.preprocessing import image\n",
        "from tensorflow.keras.preprocessing.image import img_to_array"
      ]
    },
    {
      "cell_type": "code",
      "execution_count": 4,
      "id": "218fe510",
      "metadata": {
        "id": "218fe510"
      },
      "outputs": [],
      "source": [
        "def get_model():\n",
        "    global model\n",
        "    model = load_model('model.h5')\n",
        "    print(\"Model loaded!\")"
      ]
    },
    {
      "cell_type": "code",
      "execution_count": 5,
      "id": "bfc66a9e",
      "metadata": {
        "id": "bfc66a9e",
        "outputId": "269528f6-29dd-4bc3-ea4e-dd0bf4003663",
        "colab": {
          "base_uri": "https://localhost:8080/"
        }
      },
      "outputs": [
        {
          "output_type": "stream",
          "name": "stderr",
          "text": [
            "WARNING:absl:Compiled the loaded model, but the compiled metrics have yet to be built. `model.compile_metrics` will be empty until you train or evaluate the model.\n"
          ]
        },
        {
          "output_type": "stream",
          "name": "stdout",
          "text": [
            "Model loaded!\n"
          ]
        }
      ],
      "source": [
        "get_model()"
      ]
    },
    {
      "cell_type": "code",
      "execution_count": 6,
      "id": "87bf2048",
      "metadata": {
        "id": "87bf2048"
      },
      "outputs": [],
      "source": [
        "def load_image(img_path):\n",
        "\n",
        "    img = image.load_img(img_path, target_size=(224, 224))\n",
        "    img_tensor = image.img_to_array(img)                    # (height, width, channels)\n",
        "    img_tensor = np.expand_dims(img_tensor, axis=0)         # (1, height, width, channels), add a dimension because the model expects this shape: (batch_size, height, width, channels)\n",
        "    img_tensor /= 255.                                      # imshow expects values in the range [0, 1]\n",
        "\n",
        "    return img_tensor"
      ]
    },
    {
      "cell_type": "code",
      "execution_count": 7,
      "id": "24035e5e",
      "metadata": {
        "id": "24035e5e"
      },
      "outputs": [],
      "source": [
        "def prediction(img_path):\n",
        "    new_image = load_image(img_path)\n",
        "\n",
        "    pred = model.predict(new_image)\n",
        "\n",
        "    print(pred)\n",
        "\n",
        "    labels=np.array(pred)\n",
        "    labels[labels>=0.6]=1\n",
        "    labels[labels<0.6]=0\n",
        "\n",
        "    print(labels)\n",
        "    final=np.array(labels)\n",
        "\n",
        "    if final[0][0]==1:\n",
        "        return \"Bad\"\n",
        "    else:\n",
        "        return \"Good\""
      ]
    },
    {
      "cell_type": "code",
      "execution_count": 9,
      "id": "3f692d2b",
      "metadata": {
        "id": "3f692d2b",
        "outputId": "eccae550-164e-4801-8e28-e49e4ffc0a97",
        "colab": {
          "base_uri": "https://localhost:8080/",
          "height": 89
        }
      },
      "outputs": [
        {
          "output_type": "stream",
          "name": "stdout",
          "text": [
            "\u001b[1m1/1\u001b[0m \u001b[32m━━━━━━━━━━━━━━━━━━━━\u001b[0m\u001b[37m\u001b[0m \u001b[1m1s\u001b[0m 1s/step\n",
            "[[0.9875107  0.01248937]]\n",
            "[[1. 0.]]\n"
          ]
        },
        {
          "output_type": "execute_result",
          "data": {
            "text/plain": [
              "'Bad'"
            ],
            "application/vnd.google.colaboratory.intrinsic+json": {
              "type": "string"
            }
          },
          "metadata": {},
          "execution_count": 9
        }
      ],
      "source": [
        "prediction(r'dataset/test/test5/bad (75)k.jpeg')"
      ]
    },
    {
      "cell_type": "code",
      "execution_count": 11,
      "id": "e8b83b7c",
      "metadata": {
        "id": "e8b83b7c",
        "outputId": "d4dcc762-960c-47d7-baa2-b976982a6809",
        "colab": {
          "base_uri": "https://localhost:8080/"
        }
      },
      "outputs": [
        {
          "output_type": "stream",
          "name": "stdout",
          "text": [
            "\u001b[1m1/1\u001b[0m \u001b[32m━━━━━━━━━━━━━━━━━━━━\u001b[0m\u001b[37m\u001b[0m \u001b[1m0s\u001b[0m 70ms/step\n",
            "[[0.0125276 0.9874724]]\n",
            "[[0. 1.]]\n",
            "Good\n"
          ]
        }
      ],
      "source": [
        "print(prediction(r'dataset/test/test5/good (361)k.jpeg'))                                #significance of r\""
      ]
    },
    {
      "cell_type": "code",
      "execution_count": 12,
      "id": "c5e4d45e",
      "metadata": {
        "id": "c5e4d45e",
        "outputId": "1c086b30-a57f-427c-823b-1ad7d0c46c74",
        "colab": {
          "base_uri": "https://localhost:8080/"
        }
      },
      "outputs": [
        {
          "output_type": "stream",
          "name": "stdout",
          "text": [
            "\u001b[1m1/1\u001b[0m \u001b[32m━━━━━━━━━━━━━━━━━━━━\u001b[0m\u001b[37m\u001b[0m \u001b[1m0s\u001b[0m 128ms/step\n",
            "[[9.9993622e-01 6.3810214e-05]]\n",
            "[[1. 0.]]\n"
          ]
        }
      ],
      "source": [
        "product = prediction(r'dataset/test/test5/bad (25)k.jpeg')                                                                        #it will accept image directly if both .ipynb and image lie on same place"
      ]
    },
    {
      "cell_type": "code",
      "execution_count": 13,
      "id": "56cf7fdc",
      "metadata": {
        "id": "56cf7fdc",
        "outputId": "a2b93c30-2038-4bdc-a8ba-0923c1368938",
        "colab": {
          "base_uri": "https://localhost:8080/",
          "height": 35
        }
      },
      "outputs": [
        {
          "output_type": "execute_result",
          "data": {
            "text/plain": [
              "'Bad'"
            ],
            "application/vnd.google.colaboratory.intrinsic+json": {
              "type": "string"
            }
          },
          "metadata": {},
          "execution_count": 13
        }
      ],
      "source": [
        "product"
      ]
    }
  ],
  "metadata": {
    "kernelspec": {
      "display_name": "ank",
      "language": "python",
      "name": "ank"
    },
    "language_info": {
      "codemirror_mode": {
        "name": "ipython",
        "version": 3
      },
      "file_extension": ".py",
      "mimetype": "text/x-python",
      "name": "python",
      "nbconvert_exporter": "python",
      "pygments_lexer": "ipython3",
      "version": "3.7.10"
    },
    "colab": {
      "provenance": []
    }
  },
  "nbformat": 4,
  "nbformat_minor": 5
}