{
  "cells": [
    {
      "cell_type": "code",
      "source": [
        "import os\n",
        "\n",
        "# Install git if not already installed\n",
        "!apt-get install -y git\n",
        "\n",
        "# Clone the repository\n",
        "!git clone https://github.com/Elite-AI-Club/AI-Driven-Innovation-Electronics.git\n",
        "\n",
        "# Change working directory to the repository\n",
        "%cd AI-Driven-Innovation-Electronics/7_PCB_Fault_Detection"
      ],
      "metadata": {
        "id": "GNETJY4uYuAZ",
        "outputId": "98f442c0-776c-488c-c81c-f02562ecaf49",
        "colab": {
          "base_uri": "https://localhost:8080/"
        }
      },
      "id": "GNETJY4uYuAZ",
      "execution_count": 7,
      "outputs": [
        {
          "output_type": "stream",
          "name": "stdout",
          "text": [
            "Reading package lists... Done\n",
            "Building dependency tree... Done\n",
            "Reading state information... Done\n",
            "git is already the newest version (1:2.34.1-1ubuntu1.11).\n",
            "0 upgraded, 0 newly installed, 0 to remove and 49 not upgraded.\n",
            "Cloning into 'AI-Driven-Innovation-Electronics'...\n",
            "remote: Enumerating objects: 1328, done.\u001b[K\n",
            "remote: Counting objects: 100% (111/111), done.\u001b[K\n",
            "remote: Compressing objects: 100% (75/75), done.\u001b[K\n",
            "remote: Total 1328 (delta 32), reused 109 (delta 31), pack-reused 1217 (from 1)\u001b[K\n",
            "Receiving objects: 100% (1328/1328), 109.40 MiB | 32.00 MiB/s, done.\n",
            "Resolving deltas: 100% (36/36), done.\n",
            "/content/AI-Driven-Innovation-Electronics/7_PCB_Fault_Detection\n"
          ]
        }
      ]
    },
    {
      "cell_type": "code",
      "execution_count": 8,
      "id": "553fc31c",
      "metadata": {
        "id": "553fc31c"
      },
      "outputs": [],
      "source": [
        "import os\n",
        "import numpy as np\n",
        "import pandas as pd\n",
        "from PIL import Image\n",
        "import tensorflow as tf\n",
        "from tensorflow.keras.models import load_model\n",
        "from tensorflow.keras.preprocessing import image\n",
        "from flask import Flask, render_template, request\n",
        "from tensorflow.keras.preprocessing.image import load_img\n",
        "from tensorflow.keras.preprocessing.image import img_to_array"
      ]
    },
    {
      "cell_type": "code",
      "execution_count": 9,
      "id": "b9fffc50",
      "metadata": {
        "id": "b9fffc50"
      },
      "outputs": [],
      "source": [
        "app = Flask(__name__)"
      ]
    },
    {
      "cell_type": "code",
      "execution_count": 10,
      "id": "d8136b8b",
      "metadata": {
        "id": "d8136b8b"
      },
      "outputs": [],
      "source": [
        "def get_model():\n",
        "    global model\n",
        "    model = load_model('model.h5')\n",
        "    print(\"Model loaded!\")"
      ]
    },
    {
      "cell_type": "code",
      "execution_count": 11,
      "id": "30c99b2d",
      "metadata": {
        "id": "30c99b2d"
      },
      "outputs": [],
      "source": [
        "def load_image(img_path):\n",
        "\n",
        "    img = image.load_img(img_path, target_size=(224, 224))\n",
        "    img_tensor = image.img_to_array(img)                    # (height, width, channels)\n",
        "    img_tensor = np.expand_dims(img_tensor, axis=0)         # (1, height, width, channels), add a dimension because the model expects this shape: (batch_size, height, width, channels)\n",
        "    img_tensor /= 255.                                      # imshow expects values in the range [0, 1]\n",
        "\n",
        "    return img_tensor"
      ]
    },
    {
      "cell_type": "code",
      "execution_count": 12,
      "id": "3a55e509",
      "metadata": {
        "id": "3a55e509"
      },
      "outputs": [],
      "source": [
        "def prediction(img_path):\n",
        "    new_image = load_image(img_path)\n",
        "\n",
        "    pred = model.predict(new_image)\n",
        "\n",
        "    print(pred)\n",
        "\n",
        "    labels=np.array(pred)\n",
        "    labels[labels>=0.6]=1\n",
        "    labels[labels<0.6]=0\n",
        "\n",
        "    print(labels)\n",
        "    final=np.array(labels)\n",
        "\n",
        "    if final[0][0]==1:\n",
        "        return \"Bad\"\n",
        "    else:\n",
        "        return \"Good\""
      ]
    },
    {
      "cell_type": "code",
      "execution_count": 13,
      "id": "7ce0915d",
      "metadata": {
        "id": "7ce0915d",
        "outputId": "c0d171ec-c3ee-4b79-afb4-4436bb647770",
        "colab": {
          "base_uri": "https://localhost:8080/"
        }
      },
      "outputs": [
        {
          "output_type": "stream",
          "name": "stderr",
          "text": [
            "WARNING:absl:Compiled the loaded model, but the compiled metrics have yet to be built. `model.compile_metrics` will be empty until you train or evaluate the model.\n"
          ]
        },
        {
          "output_type": "stream",
          "name": "stdout",
          "text": [
            "Model loaded!\n"
          ]
        }
      ],
      "source": [
        "get_model()"
      ]
    },
    {
      "cell_type": "code",
      "execution_count": 14,
      "id": "f8ca0400",
      "metadata": {
        "id": "f8ca0400"
      },
      "outputs": [],
      "source": [
        "@app.route(\"/\", methods=['GET', 'POST'])\n",
        "def home():\n",
        "\n",
        "    return render_template('home.html')\n",
        "\n",
        "@app.route(\"/predict\", methods = ['GET','POST'])\n",
        "def predict():\n",
        "\n",
        "    if request.method == 'POST':\n",
        "\n",
        "        file = request.files['file']\n",
        "        filename = file.filename\n",
        "        file_path = os.path.join(r'static/', filename)                       #slashes should be handeled properly\n",
        "        file.save(file_path)\n",
        "        print(filename)\n",
        "        product = prediction(file_path)\n",
        "        print(product)\n",
        "\n",
        "    return render_template('predict.html', product = product, user_image = file_path)            #file_path can or may used at the place of filename"
      ]
    },
    {
      "cell_type": "code",
      "execution_count": 15,
      "id": "ad070c41",
      "metadata": {
        "scrolled": false,
        "id": "ad070c41",
        "outputId": "a532abf1-921d-4676-ac1d-bbdbff565d1b",
        "colab": {
          "base_uri": "https://localhost:8080/"
        }
      },
      "outputs": [
        {
          "output_type": "stream",
          "name": "stdout",
          "text": [
            " * Serving Flask app '__main__'\n",
            " * Debug mode: off\n"
          ]
        },
        {
          "output_type": "stream",
          "name": "stderr",
          "text": [
            "INFO:werkzeug:\u001b[31m\u001b[1mWARNING: This is a development server. Do not use it in a production deployment. Use a production WSGI server instead.\u001b[0m\n",
            " * Running on http://127.0.0.1:5000\n",
            "INFO:werkzeug:\u001b[33mPress CTRL+C to quit\u001b[0m\n"
          ]
        }
      ],
      "source": [
        "if __name__ == \"__main__\":\n",
        "    app.run()"
      ]
    },
    {
      "cell_type": "code",
      "execution_count": 15,
      "id": "1573480a",
      "metadata": {
        "id": "1573480a"
      },
      "outputs": [],
      "source": []
    },
    {
      "cell_type": "code",
      "execution_count": 15,
      "id": "16b875c6",
      "metadata": {
        "id": "16b875c6"
      },
      "outputs": [],
      "source": []
    },
    {
      "cell_type": "code",
      "execution_count": 15,
      "id": "dbddc07f",
      "metadata": {
        "id": "dbddc07f"
      },
      "outputs": [],
      "source": []
    }
  ],
  "metadata": {
    "kernelspec": {
      "display_name": "ank",
      "language": "python",
      "name": "ank"
    },
    "language_info": {
      "codemirror_mode": {
        "name": "ipython",
        "version": 3
      },
      "file_extension": ".py",
      "mimetype": "text/x-python",
      "name": "python",
      "nbconvert_exporter": "python",
      "pygments_lexer": "ipython3",
      "version": "3.7.10"
    },
    "colab": {
      "provenance": []
    }
  },
  "nbformat": 4,
  "nbformat_minor": 5
}